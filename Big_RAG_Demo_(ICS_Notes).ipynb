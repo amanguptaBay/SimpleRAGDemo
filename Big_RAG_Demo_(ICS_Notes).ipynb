{
  "cells": [
    {
      "cell_type": "code",
      "execution_count": null,
      "metadata": {
        "id": "1IWvYTptu6Bj"
      },
      "outputs": [],
      "source": [
        "%pip install --upgrade --quiet  langchain langchain-community langchainhub langchain-openai chromadb bs4"
      ]
    },
    {
      "cell_type": "code",
      "execution_count": null,
      "metadata": {
        "colab": {
          "base_uri": "https://localhost:8080/"
        },
        "id": "Deoefi2Lu6og",
        "outputId": "9074128c-9632-40c0-e49e-72f643976874"
      },
      "outputs": [
        {
          "name": "stdout",
          "output_type": "stream",
          "text": [
            "··········\n"
          ]
        }
      ],
      "source": [
        "import getpass\n",
        "import os\n",
        "from langchain.globals import set_debug\n",
        "\n",
        "os.environ[\"OPENAI_API_KEY\"] = getpass.getpass()\n",
        "\n",
        "# import dotenv\n",
        "\n",
        "# dotenv.load_dotenv()"
      ]
    },
    {
      "cell_type": "markdown",
      "source": [],
      "metadata": {
        "id": "V40Ti23h3vd8"
      }
    },
    {
      "cell_type": "code",
      "execution_count": null,
      "metadata": {
        "id": "3ar82RUgu8Dn"
      },
      "outputs": [],
      "source": [
        "import bs4\n",
        "from langchain import hub\n",
        "from langchain.text_splitter import RecursiveCharacterTextSplitter\n",
        "from langchain_community.document_loaders import WebBaseLoader\n",
        "from langchain_community.vectorstores import Chroma\n",
        "from langchain_core.output_parsers import StrOutputParser\n",
        "from langchain_core.runnables import RunnablePassthrough\n",
        "from langchain_openai import ChatOpenAI, OpenAIEmbeddings"
      ]
    },
    {
      "cell_type": "code",
      "source": [
        "set_debug(True)\n"
      ],
      "metadata": {
        "id": "nuZuUV5r3ubs"
      },
      "execution_count": null,
      "outputs": []
    },
    {
      "cell_type": "code",
      "execution_count": null,
      "metadata": {
        "id": "Hx9-13P9u_f8"
      },
      "outputs": [],
      "source": [
        "# Load, chunk and index the contents of the blog.\n",
        "txt = \"\"\"\n",
        "  Welcome t\n",
        "\"\"\"\n",
        "\n",
        "urls = \"https://ics.uci.edu/~thornton/ics33/Notes/CourseIntroduction,https://ics.uci.edu/~thornton/ics33/Notes/ModulesAndNamespaces,https://ics.uci.edu/~thornton/ics33/Notes/ClassesAndObjects,https://ics.uci.edu/~thornton/ics33/Notes/Parameters,https://ics.uci.edu/~thornton/ics33/Notes/ContextManagers,https://ics.uci.edu/~thornton/ics33/Notes/AsymptoticAnalysis,https://ics.uci.edu/~thornton/ics33/Notes/Searching,https://ics.uci.edu/~thornton/ics33/Notes/Databases,https://ics.uci.edu/~thornton/ics33/Notes/Comprehensions,https://ics.uci.edu/~thornton/ics33/Notes/Iteration,https://ics.uci.edu/~thornton/ics33/Notes/Generators,https://ics.uci.edu/~thornton/ics33/Notes/UsingGenerators,https://ics.uci.edu/~thornton/ics33/Notes/PythonDataModel,https://ics.uci.edu/~thornton/ics33/Notes/Inheritance,https://ics.uci.edu/~thornton/ics33/Notes/Recursion,https://ics.uci.edu/~thornton/ics33/Notes/FunctionalProgramming,https://ics.uci.edu/~thornton/ics33/Notes/Decorators,https://ics.uci.edu/~thornton/ics33/Notes/ClassDesign,https://ics.uci.edu/~thornton/ics33/Notes/AbstractBaseClasses\"\n",
        "urls = urls.split(\",\")\n",
        "\n",
        "loader = WebBaseLoader(\n",
        "    web_paths=urls,\n",
        "    bs_kwargs=dict(\n",
        "        parse_only=bs4.SoupStrainer(\n",
        "            class_=(\"section\")\n",
        "        )\n",
        "    ),\n",
        ")\n",
        "docs = loader.load()\n",
        "\n",
        "text_splitter = RecursiveCharacterTextSplitter(chunk_size=1000, chunk_overlap=200)\n",
        "splits = text_splitter.split_documents(docs)\n",
        "vectorstore = Chroma.from_documents(documents=splits, embedding=OpenAIEmbeddings())\n",
        "\n",
        "# Retrieve and generate using the relevant snippets of the blog.\n",
        "retriever = vectorstore.as_retriever()\n",
        "prompt = hub.pull(\"rlm/rag-prompt\")\n",
        "llm = ChatOpenAI(model_name=\"gpt-3.5-turbo\", temperature=0)\n",
        "\n",
        "\n",
        "def format_docs(docs):\n",
        "    return \"\\n\\n\".join(doc.page_content for doc in docs)\n",
        "\n",
        "\n",
        "rag_chain = (\n",
        "    {\"context\": retriever | format_docs, \"question\": RunnablePassthrough()}\n",
        "    | prompt\n",
        "    | llm\n",
        "    | StrOutputParser()\n",
        ")"
      ]
    },
    {
      "cell_type": "code",
      "execution_count": null,
      "metadata": {
        "id": "31hEtlRNvCye",
        "outputId": "264dbefa-826e-4315-b4c9-3c8b2add2b4e",
        "colab": {
          "base_uri": "https://localhost:8080/",
          "height": 1000
        }
      },
      "outputs": [
        {
          "output_type": "stream",
          "name": "stdout",
          "text": [
            "\u001b[32;1m\u001b[1;3m[chain/start]\u001b[0m \u001b[1m[1:chain:RunnableSequence] Entering Chain run with input:\n",
            "\u001b[0m{\n",
            "  \"input\": \"What are the programming background requirements for ICS 33?\"\n",
            "}\n",
            "\u001b[32;1m\u001b[1;3m[chain/start]\u001b[0m \u001b[1m[1:chain:RunnableSequence > 2:chain:RunnableParallel<context,question>] Entering Chain run with input:\n",
            "\u001b[0m{\n",
            "  \"input\": \"What are the programming background requirements for ICS 33?\"\n",
            "}\n",
            "\u001b[32;1m\u001b[1;3m[chain/start]\u001b[0m \u001b[1m[1:chain:RunnableSequence > 2:chain:RunnableParallel<context,question> > 3:chain:RunnableSequence] Entering Chain run with input:\n",
            "\u001b[0m{\n",
            "  \"input\": \"What are the programming background requirements for ICS 33?\"\n",
            "}\n",
            "\u001b[32;1m\u001b[1;3m[chain/start]\u001b[0m \u001b[1m[1:chain:RunnableSequence > 2:chain:RunnableParallel<context,question> > 4:chain:RunnablePassthrough] Entering Chain run with input:\n",
            "\u001b[0m{\n",
            "  \"input\": \"What are the programming background requirements for ICS 33?\"\n",
            "}\n",
            "\u001b[36;1m\u001b[1;3m[chain/end]\u001b[0m \u001b[1m[1:chain:RunnableSequence > 2:chain:RunnableParallel<context,question> > 4:chain:RunnablePassthrough] [1ms] Exiting Chain run with output:\n",
            "\u001b[0m{\n",
            "  \"output\": \"What are the programming background requirements for ICS 33?\"\n",
            "}\n",
            "\u001b[32;1m\u001b[1;3m[chain/start]\u001b[0m \u001b[1m[1:chain:RunnableSequence > 2:chain:RunnableParallel<context,question> > 3:chain:RunnableSequence > 5:chain:format_docs] Entering Chain run with input:\n",
            "\u001b[0m[inputs]\n",
            "\u001b[36;1m\u001b[1;3m[chain/end]\u001b[0m \u001b[1m[1:chain:RunnableSequence > 2:chain:RunnableParallel<context,question> > 3:chain:RunnableSequence > 5:chain:format_docs] [1ms] Exiting Chain run with output:\n",
            "\u001b[0m{\n",
            "  \"output\": \"You'll need a Python background equivalent to what a student will have gained by successfully completing either our ICS 31 and ICS 32 courses, or, alternatively, our ICS 32A course.  A complete overview of what that means can be found by looking through the Notes and Examples from my most recent ICS 32A offering, which will include all of the Python knowledge you'll be expected to have at the outset of this course.  It's natural that there will be some areas where your knowledge is stronger than others, but if the majority of the listed topics appears to be new for you, you may find this course to be a struggle, because we'll be assuming facility with those topics.\\n\\nYou'll need a Python background equivalent to what a student will have gained by successfully completing either our ICS 31 and ICS 32 courses, or, alternatively, our ICS 32A course.  A complete overview of what that means can be found by looking through the Notes and Examples from my most recent ICS 32A offering, which will include all of the Python knowledge you'll be expected to have at the outset of this course.  It's natural that there will be some areas where your knowledge is stronger than others, but if the majority of the listed topics appears to be new for you, you may find this course to be a struggle, because we'll be assuming facility with those topics.\\n\\nYou'll need a Python background equivalent to what a student will have gained by successfully completing either our ICS 31 and ICS 32 courses, or, alternatively, our ICS 32A course.  A complete overview of what that means can be found by looking through the Notes and Examples from my most recent ICS 32A offering, which will include all of the Python knowledge you'll be expected to have at the outset of this course.  It's natural that there will be some areas where your knowledge is stronger than others, but if the majority of the listed topics appears to be new for you, you may find this course to be a struggle, because we'll be assuming facility with those topics.\\n\\nYou'll need a Python background equivalent to what a student will have gained by successfully completing either our ICS 31 and ICS 32 courses, or, alternatively, our ICS 32A course.  A complete overview of what that means can be found by looking through the Notes and Examples from my most recent ICS 32A offering, which will include all of the Python knowledge you'll be expected to have at the outset of this course.  It's natural that there will be some areas where your knowledge is stronger than others, but if the majority of the listed topics appears to be new for you, you may find this course to be a struggle, because we'll be assuming facility with those topics.\"\n",
            "}\n",
            "\u001b[36;1m\u001b[1;3m[chain/end]\u001b[0m \u001b[1m[1:chain:RunnableSequence > 2:chain:RunnableParallel<context,question> > 3:chain:RunnableSequence] [109ms] Exiting Chain run with output:\n",
            "\u001b[0m{\n",
            "  \"output\": \"You'll need a Python background equivalent to what a student will have gained by successfully completing either our ICS 31 and ICS 32 courses, or, alternatively, our ICS 32A course.  A complete overview of what that means can be found by looking through the Notes and Examples from my most recent ICS 32A offering, which will include all of the Python knowledge you'll be expected to have at the outset of this course.  It's natural that there will be some areas where your knowledge is stronger than others, but if the majority of the listed topics appears to be new for you, you may find this course to be a struggle, because we'll be assuming facility with those topics.\\n\\nYou'll need a Python background equivalent to what a student will have gained by successfully completing either our ICS 31 and ICS 32 courses, or, alternatively, our ICS 32A course.  A complete overview of what that means can be found by looking through the Notes and Examples from my most recent ICS 32A offering, which will include all of the Python knowledge you'll be expected to have at the outset of this course.  It's natural that there will be some areas where your knowledge is stronger than others, but if the majority of the listed topics appears to be new for you, you may find this course to be a struggle, because we'll be assuming facility with those topics.\\n\\nYou'll need a Python background equivalent to what a student will have gained by successfully completing either our ICS 31 and ICS 32 courses, or, alternatively, our ICS 32A course.  A complete overview of what that means can be found by looking through the Notes and Examples from my most recent ICS 32A offering, which will include all of the Python knowledge you'll be expected to have at the outset of this course.  It's natural that there will be some areas where your knowledge is stronger than others, but if the majority of the listed topics appears to be new for you, you may find this course to be a struggle, because we'll be assuming facility with those topics.\\n\\nYou'll need a Python background equivalent to what a student will have gained by successfully completing either our ICS 31 and ICS 32 courses, or, alternatively, our ICS 32A course.  A complete overview of what that means can be found by looking through the Notes and Examples from my most recent ICS 32A offering, which will include all of the Python knowledge you'll be expected to have at the outset of this course.  It's natural that there will be some areas where your knowledge is stronger than others, but if the majority of the listed topics appears to be new for you, you may find this course to be a struggle, because we'll be assuming facility with those topics.\"\n",
            "}\n",
            "\u001b[36;1m\u001b[1;3m[chain/end]\u001b[0m \u001b[1m[1:chain:RunnableSequence > 2:chain:RunnableParallel<context,question>] [115ms] Exiting Chain run with output:\n",
            "\u001b[0m{\n",
            "  \"context\": \"You'll need a Python background equivalent to what a student will have gained by successfully completing either our ICS 31 and ICS 32 courses, or, alternatively, our ICS 32A course.  A complete overview of what that means can be found by looking through the Notes and Examples from my most recent ICS 32A offering, which will include all of the Python knowledge you'll be expected to have at the outset of this course.  It's natural that there will be some areas where your knowledge is stronger than others, but if the majority of the listed topics appears to be new for you, you may find this course to be a struggle, because we'll be assuming facility with those topics.\\n\\nYou'll need a Python background equivalent to what a student will have gained by successfully completing either our ICS 31 and ICS 32 courses, or, alternatively, our ICS 32A course.  A complete overview of what that means can be found by looking through the Notes and Examples from my most recent ICS 32A offering, which will include all of the Python knowledge you'll be expected to have at the outset of this course.  It's natural that there will be some areas where your knowledge is stronger than others, but if the majority of the listed topics appears to be new for you, you may find this course to be a struggle, because we'll be assuming facility with those topics.\\n\\nYou'll need a Python background equivalent to what a student will have gained by successfully completing either our ICS 31 and ICS 32 courses, or, alternatively, our ICS 32A course.  A complete overview of what that means can be found by looking through the Notes and Examples from my most recent ICS 32A offering, which will include all of the Python knowledge you'll be expected to have at the outset of this course.  It's natural that there will be some areas where your knowledge is stronger than others, but if the majority of the listed topics appears to be new for you, you may find this course to be a struggle, because we'll be assuming facility with those topics.\\n\\nYou'll need a Python background equivalent to what a student will have gained by successfully completing either our ICS 31 and ICS 32 courses, or, alternatively, our ICS 32A course.  A complete overview of what that means can be found by looking through the Notes and Examples from my most recent ICS 32A offering, which will include all of the Python knowledge you'll be expected to have at the outset of this course.  It's natural that there will be some areas where your knowledge is stronger than others, but if the majority of the listed topics appears to be new for you, you may find this course to be a struggle, because we'll be assuming facility with those topics.\",\n",
            "  \"question\": \"What are the programming background requirements for ICS 33?\"\n",
            "}\n",
            "\u001b[32;1m\u001b[1;3m[chain/start]\u001b[0m \u001b[1m[1:chain:RunnableSequence > 6:prompt:ChatPromptTemplate] Entering Prompt run with input:\n",
            "\u001b[0m{\n",
            "  \"context\": \"You'll need a Python background equivalent to what a student will have gained by successfully completing either our ICS 31 and ICS 32 courses, or, alternatively, our ICS 32A course.  A complete overview of what that means can be found by looking through the Notes and Examples from my most recent ICS 32A offering, which will include all of the Python knowledge you'll be expected to have at the outset of this course.  It's natural that there will be some areas where your knowledge is stronger than others, but if the majority of the listed topics appears to be new for you, you may find this course to be a struggle, because we'll be assuming facility with those topics.\\n\\nYou'll need a Python background equivalent to what a student will have gained by successfully completing either our ICS 31 and ICS 32 courses, or, alternatively, our ICS 32A course.  A complete overview of what that means can be found by looking through the Notes and Examples from my most recent ICS 32A offering, which will include all of the Python knowledge you'll be expected to have at the outset of this course.  It's natural that there will be some areas where your knowledge is stronger than others, but if the majority of the listed topics appears to be new for you, you may find this course to be a struggle, because we'll be assuming facility with those topics.\\n\\nYou'll need a Python background equivalent to what a student will have gained by successfully completing either our ICS 31 and ICS 32 courses, or, alternatively, our ICS 32A course.  A complete overview of what that means can be found by looking through the Notes and Examples from my most recent ICS 32A offering, which will include all of the Python knowledge you'll be expected to have at the outset of this course.  It's natural that there will be some areas where your knowledge is stronger than others, but if the majority of the listed topics appears to be new for you, you may find this course to be a struggle, because we'll be assuming facility with those topics.\\n\\nYou'll need a Python background equivalent to what a student will have gained by successfully completing either our ICS 31 and ICS 32 courses, or, alternatively, our ICS 32A course.  A complete overview of what that means can be found by looking through the Notes and Examples from my most recent ICS 32A offering, which will include all of the Python knowledge you'll be expected to have at the outset of this course.  It's natural that there will be some areas where your knowledge is stronger than others, but if the majority of the listed topics appears to be new for you, you may find this course to be a struggle, because we'll be assuming facility with those topics.\",\n",
            "  \"question\": \"What are the programming background requirements for ICS 33?\"\n",
            "}\n",
            "\u001b[36;1m\u001b[1;3m[chain/end]\u001b[0m \u001b[1m[1:chain:RunnableSequence > 6:prompt:ChatPromptTemplate] [1ms] Exiting Prompt run with output:\n",
            "\u001b[0m{\n",
            "  \"lc\": 1,\n",
            "  \"type\": \"constructor\",\n",
            "  \"id\": [\n",
            "    \"langchain\",\n",
            "    \"prompts\",\n",
            "    \"chat\",\n",
            "    \"ChatPromptValue\"\n",
            "  ],\n",
            "  \"kwargs\": {\n",
            "    \"messages\": [\n",
            "      {\n",
            "        \"lc\": 1,\n",
            "        \"type\": \"constructor\",\n",
            "        \"id\": [\n",
            "          \"langchain\",\n",
            "          \"schema\",\n",
            "          \"messages\",\n",
            "          \"HumanMessage\"\n",
            "        ],\n",
            "        \"kwargs\": {\n",
            "          \"content\": \"You are an assistant for question-answering tasks. Use the following pieces of retrieved context to answer the question. If you don't know the answer, just say that you don't know. Use three sentences maximum and keep the answer concise.\\nQuestion: What are the programming background requirements for ICS 33? \\nContext: You'll need a Python background equivalent to what a student will have gained by successfully completing either our ICS 31 and ICS 32 courses, or, alternatively, our ICS 32A course.  A complete overview of what that means can be found by looking through the Notes and Examples from my most recent ICS 32A offering, which will include all of the Python knowledge you'll be expected to have at the outset of this course.  It's natural that there will be some areas where your knowledge is stronger than others, but if the majority of the listed topics appears to be new for you, you may find this course to be a struggle, because we'll be assuming facility with those topics.\\n\\nYou'll need a Python background equivalent to what a student will have gained by successfully completing either our ICS 31 and ICS 32 courses, or, alternatively, our ICS 32A course.  A complete overview of what that means can be found by looking through the Notes and Examples from my most recent ICS 32A offering, which will include all of the Python knowledge you'll be expected to have at the outset of this course.  It's natural that there will be some areas where your knowledge is stronger than others, but if the majority of the listed topics appears to be new for you, you may find this course to be a struggle, because we'll be assuming facility with those topics.\\n\\nYou'll need a Python background equivalent to what a student will have gained by successfully completing either our ICS 31 and ICS 32 courses, or, alternatively, our ICS 32A course.  A complete overview of what that means can be found by looking through the Notes and Examples from my most recent ICS 32A offering, which will include all of the Python knowledge you'll be expected to have at the outset of this course.  It's natural that there will be some areas where your knowledge is stronger than others, but if the majority of the listed topics appears to be new for you, you may find this course to be a struggle, because we'll be assuming facility with those topics.\\n\\nYou'll need a Python background equivalent to what a student will have gained by successfully completing either our ICS 31 and ICS 32 courses, or, alternatively, our ICS 32A course.  A complete overview of what that means can be found by looking through the Notes and Examples from my most recent ICS 32A offering, which will include all of the Python knowledge you'll be expected to have at the outset of this course.  It's natural that there will be some areas where your knowledge is stronger than others, but if the majority of the listed topics appears to be new for you, you may find this course to be a struggle, because we'll be assuming facility with those topics. \\nAnswer:\",\n",
            "          \"additional_kwargs\": {}\n",
            "        }\n",
            "      }\n",
            "    ]\n",
            "  }\n",
            "}\n",
            "\u001b[32;1m\u001b[1;3m[llm/start]\u001b[0m \u001b[1m[1:chain:RunnableSequence > 7:llm:ChatOpenAI] Entering LLM run with input:\n",
            "\u001b[0m{\n",
            "  \"prompts\": [\n",
            "    \"Human: You are an assistant for question-answering tasks. Use the following pieces of retrieved context to answer the question. If you don't know the answer, just say that you don't know. Use three sentences maximum and keep the answer concise.\\nQuestion: What are the programming background requirements for ICS 33? \\nContext: You'll need a Python background equivalent to what a student will have gained by successfully completing either our ICS 31 and ICS 32 courses, or, alternatively, our ICS 32A course.  A complete overview of what that means can be found by looking through the Notes and Examples from my most recent ICS 32A offering, which will include all of the Python knowledge you'll be expected to have at the outset of this course.  It's natural that there will be some areas where your knowledge is stronger than others, but if the majority of the listed topics appears to be new for you, you may find this course to be a struggle, because we'll be assuming facility with those topics.\\n\\nYou'll need a Python background equivalent to what a student will have gained by successfully completing either our ICS 31 and ICS 32 courses, or, alternatively, our ICS 32A course.  A complete overview of what that means can be found by looking through the Notes and Examples from my most recent ICS 32A offering, which will include all of the Python knowledge you'll be expected to have at the outset of this course.  It's natural that there will be some areas where your knowledge is stronger than others, but if the majority of the listed topics appears to be new for you, you may find this course to be a struggle, because we'll be assuming facility with those topics.\\n\\nYou'll need a Python background equivalent to what a student will have gained by successfully completing either our ICS 31 and ICS 32 courses, or, alternatively, our ICS 32A course.  A complete overview of what that means can be found by looking through the Notes and Examples from my most recent ICS 32A offering, which will include all of the Python knowledge you'll be expected to have at the outset of this course.  It's natural that there will be some areas where your knowledge is stronger than others, but if the majority of the listed topics appears to be new for you, you may find this course to be a struggle, because we'll be assuming facility with those topics.\\n\\nYou'll need a Python background equivalent to what a student will have gained by successfully completing either our ICS 31 and ICS 32 courses, or, alternatively, our ICS 32A course.  A complete overview of what that means can be found by looking through the Notes and Examples from my most recent ICS 32A offering, which will include all of the Python knowledge you'll be expected to have at the outset of this course.  It's natural that there will be some areas where your knowledge is stronger than others, but if the majority of the listed topics appears to be new for you, you may find this course to be a struggle, because we'll be assuming facility with those topics. \\nAnswer:\"\n",
            "  ]\n",
            "}\n",
            "\u001b[36;1m\u001b[1;3m[llm/end]\u001b[0m \u001b[1m[1:chain:RunnableSequence > 7:llm:ChatOpenAI] [5.09s] Exiting LLM run with output:\n",
            "\u001b[0m{\n",
            "  \"generations\": [\n",
            "    [\n",
            "      {\n",
            "        \"text\": \"The programming background requirements for ICS 33 include a Python background equivalent to completing ICS 31 and ICS 32 courses or ICS 32A course. The Notes and Examples from the most recent ICS 32A offering provide a complete overview of the Python knowledge expected at the beginning of the course. If the majority of the listed topics are new to you, you may find the course challenging.\",\n",
            "        \"generation_info\": {\n",
            "          \"finish_reason\": \"stop\",\n",
            "          \"logprobs\": null\n",
            "        },\n",
            "        \"type\": \"ChatGeneration\",\n",
            "        \"message\": {\n",
            "          \"lc\": 1,\n",
            "          \"type\": \"constructor\",\n",
            "          \"id\": [\n",
            "            \"langchain\",\n",
            "            \"schema\",\n",
            "            \"messages\",\n",
            "            \"AIMessage\"\n",
            "          ],\n",
            "          \"kwargs\": {\n",
            "            \"content\": \"The programming background requirements for ICS 33 include a Python background equivalent to completing ICS 31 and ICS 32 courses or ICS 32A course. The Notes and Examples from the most recent ICS 32A offering provide a complete overview of the Python knowledge expected at the beginning of the course. If the majority of the listed topics are new to you, you may find the course challenging.\",\n",
            "            \"additional_kwargs\": {}\n",
            "          }\n",
            "        }\n",
            "      }\n",
            "    ]\n",
            "  ],\n",
            "  \"llm_output\": {\n",
            "    \"token_usage\": {\n",
            "      \"completion_tokens\": 83,\n",
            "      \"prompt_tokens\": 657,\n",
            "      \"total_tokens\": 740\n",
            "    },\n",
            "    \"model_name\": \"gpt-3.5-turbo\",\n",
            "    \"system_fingerprint\": null\n",
            "  },\n",
            "  \"run\": null\n",
            "}\n",
            "\u001b[32;1m\u001b[1;3m[chain/start]\u001b[0m \u001b[1m[1:chain:RunnableSequence > 8:parser:StrOutputParser] Entering Parser run with input:\n",
            "\u001b[0m[inputs]\n",
            "\u001b[36;1m\u001b[1;3m[chain/end]\u001b[0m \u001b[1m[1:chain:RunnableSequence > 8:parser:StrOutputParser] [1ms] Exiting Parser run with output:\n",
            "\u001b[0m{\n",
            "  \"output\": \"The programming background requirements for ICS 33 include a Python background equivalent to completing ICS 31 and ICS 32 courses or ICS 32A course. The Notes and Examples from the most recent ICS 32A offering provide a complete overview of the Python knowledge expected at the beginning of the course. If the majority of the listed topics are new to you, you may find the course challenging.\"\n",
            "}\n",
            "\u001b[36;1m\u001b[1;3m[chain/end]\u001b[0m \u001b[1m[1:chain:RunnableSequence] [5.22s] Exiting Chain run with output:\n",
            "\u001b[0m{\n",
            "  \"output\": \"The programming background requirements for ICS 33 include a Python background equivalent to completing ICS 31 and ICS 32 courses or ICS 32A course. The Notes and Examples from the most recent ICS 32A offering provide a complete overview of the Python knowledge expected at the beginning of the course. If the majority of the listed topics are new to you, you may find the course challenging.\"\n",
            "}\n"
          ]
        },
        {
          "output_type": "execute_result",
          "data": {
            "text/plain": [
              "'The programming background requirements for ICS 33 include a Python background equivalent to completing ICS 31 and ICS 32 courses or ICS 32A course. The Notes and Examples from the most recent ICS 32A offering provide a complete overview of the Python knowledge expected at the beginning of the course. If the majority of the listed topics are new to you, you may find the course challenging.'"
            ],
            "application/vnd.google.colaboratory.intrinsic+json": {
              "type": "string"
            }
          },
          "metadata": {},
          "execution_count": 20
        }
      ],
      "source": [
        "rag_chain.invoke(\"What are the programming background requirements for ICS 33?\")"
      ]
    },
    {
      "cell_type": "code",
      "source": [
        "rag_chain.invoke(\"What are we reccomended to call keyword arguments? Where are they to be placed\")"
      ],
      "metadata": {
        "id": "nWCtgDRYxK1H",
        "colab": {
          "base_uri": "https://localhost:8080/",
          "height": 1000
        },
        "outputId": "4e12cfa3-7c45-4c75-c49e-7999e7cb050d"
      },
      "execution_count": null,
      "outputs": [
        {
          "output_type": "stream",
          "name": "stdout",
          "text": [
            "\u001b[32;1m\u001b[1;3m[chain/start]\u001b[0m \u001b[1m[1:chain:RunnableSequence] Entering Chain run with input:\n",
            "\u001b[0m{\n",
            "  \"input\": \"What are we reccomended to call keyword arguments? Where are they to be placed\"\n",
            "}\n",
            "\u001b[32;1m\u001b[1;3m[chain/start]\u001b[0m \u001b[1m[1:chain:RunnableSequence > 2:chain:RunnableParallel<context,question>] Entering Chain run with input:\n",
            "\u001b[0m{\n",
            "  \"input\": \"What are we reccomended to call keyword arguments? Where are they to be placed\"\n",
            "}\n",
            "\u001b[32;1m\u001b[1;3m[chain/start]\u001b[0m \u001b[1m[1:chain:RunnableSequence > 2:chain:RunnableParallel<context,question> > 3:chain:RunnableSequence] Entering Chain run with input:\n",
            "\u001b[0m{\n",
            "  \"input\": \"What are we reccomended to call keyword arguments? Where are they to be placed\"\n",
            "}\n",
            "\u001b[32;1m\u001b[1;3m[chain/start]\u001b[0m \u001b[1m[1:chain:RunnableSequence > 2:chain:RunnableParallel<context,question> > 4:chain:RunnablePassthrough] Entering Chain run with input:\n",
            "\u001b[0m{\n",
            "  \"input\": \"What are we reccomended to call keyword arguments? Where are they to be placed\"\n",
            "}\n",
            "\u001b[36;1m\u001b[1;3m[chain/end]\u001b[0m \u001b[1m[1:chain:RunnableSequence > 2:chain:RunnableParallel<context,question> > 4:chain:RunnablePassthrough] [5ms] Exiting Chain run with output:\n",
            "\u001b[0m{\n",
            "  \"output\": \"What are we reccomended to call keyword arguments? Where are they to be placed\"\n",
            "}\n",
            "\u001b[32;1m\u001b[1;3m[chain/start]\u001b[0m \u001b[1m[1:chain:RunnableSequence > 2:chain:RunnableParallel<context,question> > 3:chain:RunnableSequence > 5:chain:format_docs] Entering Chain run with input:\n",
            "\u001b[0m[inputs]\n",
            "\u001b[36;1m\u001b[1;3m[chain/end]\u001b[0m \u001b[1m[1:chain:RunnableSequence > 2:chain:RunnableParallel<context,question> > 3:chain:RunnableSequence > 5:chain:format_docs] [1ms] Exiting Chain run with output:\n",
            "\u001b[0m{\n",
            "  \"output\": \"Some parameters are what we call keyword-only parameters, which is to say that they can only have values passed into them via keyword arguments.  There are two ways to require arguments to be passed via keyword in Python.\\n\\nSome parameters are what we call keyword-only parameters, which is to say that they can only have values passed into them via keyword arguments.  There are two ways to require arguments to be passed via keyword in Python.\\n\\nSome parameters are what we call keyword-only parameters, which is to say that they can only have values passed into them via keyword arguments.  There are two ways to require arguments to be passed via keyword in Python.\\n\\nSome parameters are what we call keyword-only parameters, which is to say that they can only have values passed into them via keyword arguments.  There are two ways to require arguments to be passed via keyword in Python.\"\n",
            "}\n",
            "\u001b[36;1m\u001b[1;3m[chain/end]\u001b[0m \u001b[1m[1:chain:RunnableSequence > 2:chain:RunnableParallel<context,question> > 3:chain:RunnableSequence] [150ms] Exiting Chain run with output:\n",
            "\u001b[0m{\n",
            "  \"output\": \"Some parameters are what we call keyword-only parameters, which is to say that they can only have values passed into them via keyword arguments.  There are two ways to require arguments to be passed via keyword in Python.\\n\\nSome parameters are what we call keyword-only parameters, which is to say that they can only have values passed into them via keyword arguments.  There are two ways to require arguments to be passed via keyword in Python.\\n\\nSome parameters are what we call keyword-only parameters, which is to say that they can only have values passed into them via keyword arguments.  There are two ways to require arguments to be passed via keyword in Python.\\n\\nSome parameters are what we call keyword-only parameters, which is to say that they can only have values passed into them via keyword arguments.  There are two ways to require arguments to be passed via keyword in Python.\"\n",
            "}\n",
            "\u001b[36;1m\u001b[1;3m[chain/end]\u001b[0m \u001b[1m[1:chain:RunnableSequence > 2:chain:RunnableParallel<context,question>] [159ms] Exiting Chain run with output:\n",
            "\u001b[0m{\n",
            "  \"context\": \"Some parameters are what we call keyword-only parameters, which is to say that they can only have values passed into them via keyword arguments.  There are two ways to require arguments to be passed via keyword in Python.\\n\\nSome parameters are what we call keyword-only parameters, which is to say that they can only have values passed into them via keyword arguments.  There are two ways to require arguments to be passed via keyword in Python.\\n\\nSome parameters are what we call keyword-only parameters, which is to say that they can only have values passed into them via keyword arguments.  There are two ways to require arguments to be passed via keyword in Python.\\n\\nSome parameters are what we call keyword-only parameters, which is to say that they can only have values passed into them via keyword arguments.  There are two ways to require arguments to be passed via keyword in Python.\",\n",
            "  \"question\": \"What are we reccomended to call keyword arguments? Where are they to be placed\"\n",
            "}\n",
            "\u001b[32;1m\u001b[1;3m[chain/start]\u001b[0m \u001b[1m[1:chain:RunnableSequence > 6:prompt:ChatPromptTemplate] Entering Prompt run with input:\n",
            "\u001b[0m{\n",
            "  \"context\": \"Some parameters are what we call keyword-only parameters, which is to say that they can only have values passed into them via keyword arguments.  There are two ways to require arguments to be passed via keyword in Python.\\n\\nSome parameters are what we call keyword-only parameters, which is to say that they can only have values passed into them via keyword arguments.  There are two ways to require arguments to be passed via keyword in Python.\\n\\nSome parameters are what we call keyword-only parameters, which is to say that they can only have values passed into them via keyword arguments.  There are two ways to require arguments to be passed via keyword in Python.\\n\\nSome parameters are what we call keyword-only parameters, which is to say that they can only have values passed into them via keyword arguments.  There are two ways to require arguments to be passed via keyword in Python.\",\n",
            "  \"question\": \"What are we reccomended to call keyword arguments? Where are they to be placed\"\n",
            "}\n",
            "\u001b[36;1m\u001b[1;3m[chain/end]\u001b[0m \u001b[1m[1:chain:RunnableSequence > 6:prompt:ChatPromptTemplate] [1ms] Exiting Prompt run with output:\n",
            "\u001b[0m{\n",
            "  \"lc\": 1,\n",
            "  \"type\": \"constructor\",\n",
            "  \"id\": [\n",
            "    \"langchain\",\n",
            "    \"prompts\",\n",
            "    \"chat\",\n",
            "    \"ChatPromptValue\"\n",
            "  ],\n",
            "  \"kwargs\": {\n",
            "    \"messages\": [\n",
            "      {\n",
            "        \"lc\": 1,\n",
            "        \"type\": \"constructor\",\n",
            "        \"id\": [\n",
            "          \"langchain\",\n",
            "          \"schema\",\n",
            "          \"messages\",\n",
            "          \"HumanMessage\"\n",
            "        ],\n",
            "        \"kwargs\": {\n",
            "          \"content\": \"You are an assistant for question-answering tasks. Use the following pieces of retrieved context to answer the question. If you don't know the answer, just say that you don't know. Use three sentences maximum and keep the answer concise.\\nQuestion: What are we reccomended to call keyword arguments? Where are they to be placed \\nContext: Some parameters are what we call keyword-only parameters, which is to say that they can only have values passed into them via keyword arguments.  There are two ways to require arguments to be passed via keyword in Python.\\n\\nSome parameters are what we call keyword-only parameters, which is to say that they can only have values passed into them via keyword arguments.  There are two ways to require arguments to be passed via keyword in Python.\\n\\nSome parameters are what we call keyword-only parameters, which is to say that they can only have values passed into them via keyword arguments.  There are two ways to require arguments to be passed via keyword in Python.\\n\\nSome parameters are what we call keyword-only parameters, which is to say that they can only have values passed into them via keyword arguments.  There are two ways to require arguments to be passed via keyword in Python. \\nAnswer:\",\n",
            "          \"additional_kwargs\": {}\n",
            "        }\n",
            "      }\n",
            "    ]\n",
            "  }\n",
            "}\n",
            "\u001b[32;1m\u001b[1;3m[llm/start]\u001b[0m \u001b[1m[1:chain:RunnableSequence > 7:llm:ChatOpenAI] Entering LLM run with input:\n",
            "\u001b[0m{\n",
            "  \"prompts\": [\n",
            "    \"Human: You are an assistant for question-answering tasks. Use the following pieces of retrieved context to answer the question. If you don't know the answer, just say that you don't know. Use three sentences maximum and keep the answer concise.\\nQuestion: What are we reccomended to call keyword arguments? Where are they to be placed \\nContext: Some parameters are what we call keyword-only parameters, which is to say that they can only have values passed into them via keyword arguments.  There are two ways to require arguments to be passed via keyword in Python.\\n\\nSome parameters are what we call keyword-only parameters, which is to say that they can only have values passed into them via keyword arguments.  There are two ways to require arguments to be passed via keyword in Python.\\n\\nSome parameters are what we call keyword-only parameters, which is to say that they can only have values passed into them via keyword arguments.  There are two ways to require arguments to be passed via keyword in Python.\\n\\nSome parameters are what we call keyword-only parameters, which is to say that they can only have values passed into them via keyword arguments.  There are two ways to require arguments to be passed via keyword in Python. \\nAnswer:\"\n",
            "  ]\n",
            "}\n",
            "\u001b[36;1m\u001b[1;3m[llm/end]\u001b[0m \u001b[1m[1:chain:RunnableSequence > 7:llm:ChatOpenAI] [1.47s] Exiting LLM run with output:\n",
            "\u001b[0m{\n",
            "  \"generations\": [\n",
            "    [\n",
            "      {\n",
            "        \"text\": \"Keyword arguments are recommended to be called keyword-only parameters. They are to be placed after positional arguments in Python.\",\n",
            "        \"generation_info\": {\n",
            "          \"finish_reason\": \"stop\",\n",
            "          \"logprobs\": null\n",
            "        },\n",
            "        \"type\": \"ChatGeneration\",\n",
            "        \"message\": {\n",
            "          \"lc\": 1,\n",
            "          \"type\": \"constructor\",\n",
            "          \"id\": [\n",
            "            \"langchain\",\n",
            "            \"schema\",\n",
            "            \"messages\",\n",
            "            \"AIMessage\"\n",
            "          ],\n",
            "          \"kwargs\": {\n",
            "            \"content\": \"Keyword arguments are recommended to be called keyword-only parameters. They are to be placed after positional arguments in Python.\",\n",
            "            \"additional_kwargs\": {}\n",
            "          }\n",
            "        }\n",
            "      }\n",
            "    ]\n",
            "  ],\n",
            "  \"llm_output\": {\n",
            "    \"token_usage\": {\n",
            "      \"completion_tokens\": 22,\n",
            "      \"prompt_tokens\": 255,\n",
            "      \"total_tokens\": 277\n",
            "    },\n",
            "    \"model_name\": \"gpt-3.5-turbo\",\n",
            "    \"system_fingerprint\": null\n",
            "  },\n",
            "  \"run\": null\n",
            "}\n",
            "\u001b[32;1m\u001b[1;3m[chain/start]\u001b[0m \u001b[1m[1:chain:RunnableSequence > 8:parser:StrOutputParser] Entering Parser run with input:\n",
            "\u001b[0m[inputs]\n",
            "\u001b[36;1m\u001b[1;3m[chain/end]\u001b[0m \u001b[1m[1:chain:RunnableSequence > 8:parser:StrOutputParser] [0ms] Exiting Parser run with output:\n",
            "\u001b[0m{\n",
            "  \"output\": \"Keyword arguments are recommended to be called keyword-only parameters. They are to be placed after positional arguments in Python.\"\n",
            "}\n",
            "\u001b[36;1m\u001b[1;3m[chain/end]\u001b[0m \u001b[1m[1:chain:RunnableSequence] [1.63s] Exiting Chain run with output:\n",
            "\u001b[0m{\n",
            "  \"output\": \"Keyword arguments are recommended to be called keyword-only parameters. They are to be placed after positional arguments in Python.\"\n",
            "}\n"
          ]
        },
        {
          "output_type": "execute_result",
          "data": {
            "text/plain": [
              "'Keyword arguments are recommended to be called keyword-only parameters. They are to be placed after positional arguments in Python.'"
            ],
            "application/vnd.google.colaboratory.intrinsic+json": {
              "type": "string"
            }
          },
          "metadata": {},
          "execution_count": 23
        }
      ]
    },
    {
      "cell_type": "code",
      "source": [],
      "metadata": {
        "id": "-JSw5xP839YO"
      },
      "execution_count": null,
      "outputs": []
    }
  ],
  "metadata": {
    "colab": {
      "provenance": []
    },
    "kernelspec": {
      "display_name": "Python 3",
      "name": "python3"
    },
    "language_info": {
      "name": "python"
    }
  },
  "nbformat": 4,
  "nbformat_minor": 0
}